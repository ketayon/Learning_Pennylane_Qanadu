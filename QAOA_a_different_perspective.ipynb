{
 "cells": [
  {
   "cell_type": "code",
   "execution_count": 37,
   "id": "8f9e2328",
   "metadata": {},
   "outputs": [
    {
     "name": "stderr",
     "output_type": "stream",
     "text": [
      "/var/folders/_y/gpx6st7s77963mn1x58nrsf00000gn/T/ipykernel_21296/1792146053.py:7: MatplotlibDeprecationWarning: The seaborn styles shipped by Matplotlib are deprecated since 3.6, as they no longer correspond to the styles shipped by seaborn. However, they will remain available as 'seaborn-v0_8-<style>'. Alternatively, directly use the seaborn API instead.\n",
      "  plt.style.use('seaborn')\n"
     ]
    }
   ],
   "source": [
    "import pennylane as qml\n",
    "from pennylane import numpy as np\n",
    "from pennylane import qaoa\n",
    "import cmath\n",
    "import matplotlib.pyplot as plt\n",
    "\n",
    "plt.style.use('seaborn')"
   ]
  },
  {
   "cell_type": "code",
   "execution_count": 38,
   "id": "99b9a70f",
   "metadata": {},
   "outputs": [],
   "source": [
    "cost_H = qml.PauliZ(0) + qml.PauliZ(1) + qml.PauliZ(2)\n",
    "mixer_H = qml.PauliX(0) + qml.PauliX(1) + qml.PauliX(2)"
   ]
  },
  {
   "cell_type": "code",
   "execution_count": 39,
   "id": "dcfd313d",
   "metadata": {},
   "outputs": [],
   "source": [
    "wires = [0, 1, 2]\n",
    "\n",
    "num_layers = 5"
   ]
  },
  {
   "cell_type": "code",
   "execution_count": 40,
   "id": "68e70843",
   "metadata": {},
   "outputs": [],
   "source": [
    "def qaoa_layer(gamma, alpha):\n",
    "    qaoa.cost_layer(gamma, cost_H)\n",
    "    qaoa.mixer_layer(alpha, mixer_H)\n",
    "    \n",
    "\n",
    "def circuit(params):\n",
    "    for w in wires:\n",
    "        qml.Hadamard(w)\n",
    "    qml.layer(qaoa_layer, num_layers, params[0], params[1])"
   ]
  },
  {
   "cell_type": "code",
   "execution_count": 41,
   "id": "cbe1e9d6",
   "metadata": {},
   "outputs": [],
   "source": [
    "dev = qml.device('default.qubit', wires=wires)"
   ]
  },
  {
   "cell_type": "code",
   "execution_count": 42,
   "id": "ab39aea2",
   "metadata": {},
   "outputs": [],
   "source": [
    "@qml.qnode(dev)\n",
    "def cost_function(params):\n",
    "    circuit(params)\n",
    "    return qml.expval(cost_H)"
   ]
  },
  {
   "cell_type": "code",
   "execution_count": 43,
   "id": "836ae4ba",
   "metadata": {},
   "outputs": [],
   "source": [
    "opt = qml.GradientDescentOptimizer()\n",
    "steps = 200\n",
    "\n",
    "params = np.array([[0.5] * num_layers, [0.5] * num_layers], requires_grad=True)\n",
    "\n",
    "for _ in range(steps):\n",
    "    params = opt.step(cost_function, params)"
   ]
  },
  {
   "cell_type": "code",
   "execution_count": 44,
   "id": "332e7537",
   "metadata": {},
   "outputs": [],
   "source": [
    "@qml.qnode(dev)\n",
    "def circuit_state(params):\n",
    "    circuit(params)\n",
    "    return qml.state()"
   ]
  },
  {
   "cell_type": "code",
   "execution_count": 45,
   "id": "7ef9eb2b",
   "metadata": {},
   "outputs": [
    {
     "data": {
      "text/plain": [
       "tensor([-0.+0.j,  0.+0.j,  0.-0.j, -0.-0.j,  0.+0.j, -0.-0.j, -0.+0.j,\n",
       "        -1.-0.j], requires_grad=True)"
      ]
     },
     "execution_count": 45,
     "metadata": {},
     "output_type": "execute_result"
    }
   ],
   "source": [
    "np.round(circuit_state(params), decimals=5)"
   ]
  },
  {
   "cell_type": "code",
   "execution_count": 46,
   "id": "55afe627",
   "metadata": {},
   "outputs": [],
   "source": [
    "def qaoa_layer_snapshot(gamma, alpha):\n",
    "    qaoa.cost_layer(gamma, cost_H)\n",
    "    qml.Snapshot()\n",
    "    qaoa.mixer_layer(alpha, mixer_H)\n",
    "    qml.Snapshot()"
   ]
  },
  {
   "cell_type": "code",
   "execution_count": 51,
   "id": "163d6ba6",
   "metadata": {},
   "outputs": [],
   "source": [
    "def circuit_snapshot(params):\n",
    "    for w in wires:\n",
    "        qml.Hadamard(w)\n",
    "    qml.layer(qaoa_layer_snapshot, num_layers, params[0], params[1])"
   ]
  },
  {
   "cell_type": "code",
   "execution_count": 52,
   "id": "1d648b41",
   "metadata": {},
   "outputs": [],
   "source": [
    "@qml.qnode(dev)\n",
    "def circuit_state_snapshot(params):\n",
    "    circuit_snapshot(params)\n",
    "    return qml.state()"
   ]
  },
  {
   "cell_type": "code",
   "execution_count": 54,
   "id": "094c5479",
   "metadata": {},
   "outputs": [],
   "source": [
    "snaps = qml.snapshots(circuit_state_snapshot)(params)\n",
    "# print(snaps)"
   ]
  },
  {
   "cell_type": "code",
   "execution_count": 55,
   "id": "bf6de113",
   "metadata": {},
   "outputs": [],
   "source": [
    "amplitudes = np.zeros(2 * num_layers)\n",
    "phases = np.zeros(2 * num_layers)"
   ]
  },
  {
   "cell_type": "code",
   "execution_count": 57,
   "id": "0f4922de",
   "metadata": {},
   "outputs": [],
   "source": [
    "for i in range(2 * num_layers):\n",
    "    solution_coef = snaps[i].reshape(2,2,2)[1,1,1]\n",
    "    amplitudes[i] = np.real(solution_coef * np.conj(solution_coef))\n",
    "    phases[i] = cmath.phase(solution_coef)"
   ]
  },
  {
   "cell_type": "code",
   "execution_count": 59,
   "id": "ea04eb37",
   "metadata": {},
   "outputs": [
    {
     "data": {
      "image/png": "[encoded data removed]",
      "text/plain": [
       "<Figure size 800x550 with 1 Axes>"
      ]
     },
     "metadata": {},
     "output_type": "display_data"
    }
   ],
   "source": [
    "plt.plot(amplitudes, phases)\n",
    "plt.ylabel('Phase')\n",
    "plt.xlabel('Amplitude')\n",
    "plt.show()"
   ]
  },
  {
   "cell_type": "code",
   "execution_count": null,
   "id": "7cf10daa",
   "metadata": {},
   "outputs": [],
   "source": []
  }
 ],
 "metadata": {
  "kernelspec": {
   "display_name": "Python 3 (ipykernel)",
   "language": "python",
   "name": "python3"
  },
  "language_info": {
   "codemirror_mode": {
    "name": "ipython",
    "version": 3
   },
   "file_extension": ".py",
   "mimetype": "text/x-python",
   "name": "python",
   "nbconvert_exporter": "python",
   "pygments_lexer": "ipython3",
   "version": "3.10.9"
  }
 },
 "nbformat": 4,
 "nbformat_minor": 5
}
