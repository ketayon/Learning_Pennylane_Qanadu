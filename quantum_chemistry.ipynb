{
 "cells": [
  {
   "cell_type": "code",
   "execution_count": 2,
   "id": "d6a26425",
   "metadata": {},
   "outputs": [],
   "source": [
    "import pennylane as qml\n",
    "from pennylane import numpy as np\n",
    "from pennylane import qchem"
   ]
  },
  {
   "cell_type": "code",
   "execution_count": 3,
   "id": "6ed74cfb",
   "metadata": {},
   "outputs": [],
   "source": [
    "symbols = ['H', 'H']\n",
    "coordinates = np.array([[-0.673, 0, 0], [0.673, 0, 0]])"
   ]
  },
  {
   "cell_type": "code",
   "execution_count": 4,
   "id": "7fb13fe6",
   "metadata": {},
   "outputs": [],
   "source": [
    "H, qubits = qchem.molecular_hamiltonian(symbols, coordinates)"
   ]
  },
  {
   "cell_type": "code",
   "execution_count": 5,
   "id": "e720b2c0",
   "metadata": {},
   "outputs": [
    {
     "name": "stdout",
     "output_type": "stream",
     "text": [
      "4\n"
     ]
    }
   ],
   "source": [
    "print(qubits)"
   ]
  },
  {
   "cell_type": "code",
   "execution_count": 6,
   "id": "e2503415",
   "metadata": {},
   "outputs": [
    {
     "name": "stdout",
     "output_type": "stream",
     "text": [
      "  (-0.23663556589795112) [Z2]\n",
      "+ (-0.23663556589795112) [Z3]\n",
      "+ (-0.05972277750650723) [I0]\n",
      "+ (0.17574790106889876) [Z0]\n",
      "+ (0.17574790106889876) [Z1]\n",
      "+ (0.12222295790716331) [Z0 Z2]\n",
      "+ (0.12222295790716331) [Z1 Z3]\n",
      "+ (0.16714112448986262) [Z0 Z3]\n",
      "+ (0.16714112448986262) [Z1 Z2]\n",
      "+ (0.1700120046062239) [Z0 Z1]\n",
      "+ (0.1756999882843957) [Z2 Z3]\n",
      "+ (-0.044918166582699315) [Y0 Y1 X2 X3]\n",
      "+ (-0.044918166582699315) [X0 X1 Y2 Y3]\n",
      "+ (0.044918166582699315) [Y0 X1 X2 Y3]\n",
      "+ (0.044918166582699315) [X0 Y1 Y2 X3]\n"
     ]
    }
   ],
   "source": [
    "print(H)"
   ]
  },
  {
   "cell_type": "code",
   "execution_count": 7,
   "id": "a4df8f48",
   "metadata": {},
   "outputs": [],
   "source": [
    "num_wires = qubits\n",
    "dev = qml.device('default.qubit', wires=num_wires)"
   ]
  },
  {
   "cell_type": "code",
   "execution_count": 8,
   "id": "8d41a176",
   "metadata": {},
   "outputs": [],
   "source": [
    "@qml.qnode(dev)\n",
    "def exp_energy(state):\n",
    "    qml.BasisState(np.array(state), wires=range(num_wires))\n",
    "    return qml.expval(H)"
   ]
  },
  {
   "cell_type": "code",
   "execution_count": 9,
   "id": "cd1ce736",
   "metadata": {},
   "outputs": [
    {
     "data": {
      "text/plain": [
       "tensor(-0.4952711, requires_grad=True)"
      ]
     },
     "execution_count": 9,
     "metadata": {},
     "output_type": "execute_result"
    }
   ],
   "source": [
    "exp_energy([1,0,1,0])"
   ]
  },
  {
   "cell_type": "code",
   "execution_count": 10,
   "id": "2a98aa33",
   "metadata": {},
   "outputs": [],
   "source": [
    "hf = qchem.hf_state(electrons = 2, orbitals = 4)"
   ]
  },
  {
   "cell_type": "code",
   "execution_count": 11,
   "id": "ccce20a8",
   "metadata": {},
   "outputs": [
    {
     "data": {
      "text/plain": [
       "tensor(-1.11750588, requires_grad=True)"
      ]
     },
     "execution_count": 11,
     "metadata": {},
     "output_type": "execute_result"
    }
   ],
   "source": [
    "exp_energy(hf)"
   ]
  },
  {
   "cell_type": "code",
   "execution_count": null,
   "id": "3ea236eb",
   "metadata": {},
   "outputs": [],
   "source": []
  }
 ],
 "metadata": {
  "kernelspec": {
   "display_name": "Python 3 (ipykernel)",
   "language": "python",
   "name": "python3"
  },
  "language_info": {
   "codemirror_mode": {
    "name": "ipython",
    "version": 3
   },
   "file_extension": ".py",
   "mimetype": "text/x-python",
   "name": "python",
   "nbconvert_exporter": "python",
   "pygments_lexer": "ipython3",
   "version": "3.10.9"
  }
 },
 "nbformat": 4,
 "nbformat_minor": 5
}
