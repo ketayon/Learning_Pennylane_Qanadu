{
 "cells": [
  {
   "cell_type": "code",
   "execution_count": 31,
   "id": "6a362398",
   "metadata": {},
   "outputs": [],
   "source": [
    "import pennylane as qml\n",
    "from pennylane import numpy as np\n",
    "\n",
    "import matplotlib.pyplot as plt"
   ]
  },
  {
   "cell_type": "code",
   "execution_count": 32,
   "id": "306054d9",
   "metadata": {},
   "outputs": [],
   "source": [
    "property_prices = [4, 8, 6, 3, 12, 15] # total 48 \n",
    "variables_wires = [0, 1, 2, 3, 4, 5]\n",
    "aux_oracle_wires = [6, 7, 8 ,9 ,10, 11]"
   ]
  },
  {
   "cell_type": "code",
   "execution_count": 33,
   "id": "c2ee0a8a",
   "metadata": {},
   "outputs": [],
   "source": [
    "def oracle(variables_wires, aux_oracle_wires):\n",
    "    \n",
    "    def add_k_fourier(k, wires):\n",
    "        for j in range(len(wires)):\n",
    "            qml.RZ(k * np.pi / (2**j), wires=wires[j])\n",
    "            \n",
    "    def value_second_sibling():\n",
    "        \n",
    "        qml.QFT(wires = aux_oracle_wires)\n",
    "        \n",
    "        for wire in variables_wires:\n",
    "            qml.ctrl(add_k_fourier, control = wire)(property_prices[wire], wires = aux_oracle_wires)\n",
    "            \n",
    "        qml.adjoint(qml.QFT)(wires = aux_oracle_wires)\n",
    "        \n",
    "    value_second_sibling()\n",
    "    qml.FlipSign(sum(property_prices) // 2, wires = aux_oracle_wires)\n",
    "    qml.adjoint(value_second_sibling)()"
   ]
  },
  {
   "cell_type": "code",
   "execution_count": 34,
   "id": "e65017cb",
   "metadata": {},
   "outputs": [],
   "source": [
    "dev = qml.device(\"default.qubit\", wires = variables_wires + aux_oracle_wires)"
   ]
  },
  {
   "cell_type": "code",
   "execution_count": 35,
   "id": "269d9266",
   "metadata": {},
   "outputs": [],
   "source": [
    "@qml.qnode(dev)\n",
    "def circuit():\n",
    "    \n",
    "    # step 1 - superposition\n",
    "    for wire in variables_wires:\n",
    "        qml.Hadamard(wires = wire)\n",
    "        \n",
    "       \n",
    "    # step 2 - oracle to mark correct elements\n",
    "    oracle(variables_wires, aux_oracle_wires)\n",
    "\n",
    "    # step 3 - apply Grover operator\n",
    "    qml.GroverOperator(wires = variables_wires)\n",
    "    \n",
    "    return qml.probs(wires = variables_wires)"
   ]
  },
  {
   "cell_type": "code",
   "execution_count": 36,
   "id": "b0dff7e0",
   "metadata": {},
   "outputs": [
    {
     "data": {
      "text/plain": [
       "<BarContainer object of 64 artists>"
      ]
     },
     "execution_count": 36,
     "metadata": {},
     "output_type": "execute_result"
    },
    {
     "data": {
      "image/png": "[encoded data removed]",
      "text/plain": [
       "<Figure size 640x480 with 1 Axes>"
      ]
     },
     "metadata": {},
     "output_type": "display_data"
    }
   ],
   "source": [
    "values = circuit()\n",
    "plt.bar(range(len(values)), values)"
   ]
  },
  {
   "cell_type": "code",
   "execution_count": 37,
   "id": "96999729",
   "metadata": {},
   "outputs": [],
   "source": [
    "dev = qml.device(\"default.qubit\", wires = variables_wires + aux_oracle_wires, shots=1)"
   ]
  },
  {
   "cell_type": "code",
   "execution_count": 38,
   "id": "6f42abba",
   "metadata": {},
   "outputs": [],
   "source": [
    "@qml.qnode(dev)\n",
    "def circuit():\n",
    "    \n",
    "    # step 1 - superposition\n",
    "    for wire in variables_wires:\n",
    "        qml.Hadamard(wires = wire)\n",
    "        \n",
    "    for _ in range(3):\n",
    "       \n",
    "        # step 2 - oracle to mark correct elements\n",
    "        oracle(variables_wires, aux_oracle_wires)\n",
    "\n",
    "        # step 3 - apply Grover operator\n",
    "        qml.GroverOperator(wires = variables_wires)\n",
    "    \n",
    "    return qml.probs(wires = variables_wires)"
   ]
  },
  {
   "cell_type": "code",
   "execution_count": 39,
   "id": "76516710",
   "metadata": {},
   "outputs": [
    {
     "name": "stdout",
     "output_type": "stream",
     "text": [
      "[0. 0. 0. 0. 0. 0. 0. 0. 0. 0. 0. 0. 0. 0. 0. 0. 0. 0. 0. 0. 0. 0. 0. 0.\n",
      " 0. 0. 0. 0. 0. 0. 0. 0. 0. 0. 0. 0. 0. 0. 0. 0. 0. 0. 0. 0. 0. 0. 0. 0.\n",
      " 0. 0. 1. 0. 0. 0. 0. 0. 0. 0. 0. 0. 0. 0. 0. 0.]\n"
     ]
    }
   ],
   "source": [
    "values = circuit()\n",
    "print(values)"
   ]
  },
  {
   "cell_type": "code",
   "execution_count": 40,
   "id": "e914c7f7",
   "metadata": {},
   "outputs": [
    {
     "data": {
      "text/plain": [
       "<BarContainer object of 64 artists>"
      ]
     },
     "execution_count": 40,
     "metadata": {},
     "output_type": "execute_result"
    },
    {
     "data": {
      "image/png": "[encoded data removed]",
      "text/plain": [
       "<Figure size 640x480 with 1 Axes>"
      ]
     },
     "metadata": {},
     "output_type": "display_data"
    }
   ],
   "source": [
    "plt.bar(range(len(values)), values)"
   ]
  },
  {
   "cell_type": "code",
   "execution_count": null,
   "id": "573b0594",
   "metadata": {},
   "outputs": [],
   "source": []
  }
 ],
 "metadata": {
  "kernelspec": {
   "display_name": "Python 3 (ipykernel)",
   "language": "python",
   "name": "python3"
  },
  "language_info": {
   "codemirror_mode": {
    "name": "ipython",
    "version": 3
   },
   "file_extension": ".py",
   "mimetype": "text/x-python",
   "name": "python",
   "nbconvert_exporter": "python",
   "pygments_lexer": "ipython3",
   "version": "3.10.9"
  }
 },
 "nbformat": 4,
 "nbformat_minor": 5
}
