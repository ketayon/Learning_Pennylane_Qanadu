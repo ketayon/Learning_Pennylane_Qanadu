{
 "cells": [
  {
   "cell_type": "code",
   "execution_count": 34,
   "id": "3327e24b",
   "metadata": {},
   "outputs": [],
   "source": [
    "import pennylane as qml\n",
    "from pennylane import numpy as np\n",
    "from pennylane import qchem"
   ]
  },
  {
   "cell_type": "markdown",
   "id": "cd0eb011",
   "metadata": {},
   "source": [
    "### Find molecular hamiltonial"
   ]
  },
  {
   "cell_type": "code",
   "execution_count": 35,
   "id": "68c54148",
   "metadata": {},
   "outputs": [],
   "source": [
    "symbols = ['H', 'H', 'H']\n",
    "coordinates = np.array([[0.0102,0.0442,0.0], [0.9867,1.6303,0.0], [1.8720,-0.0085,0.0]])"
   ]
  },
  {
   "cell_type": "code",
   "execution_count": 36,
   "id": "eaabcc0a",
   "metadata": {},
   "outputs": [],
   "source": [
    "hamiltonian, qubits = qchem.molecular_hamiltonian(symbols, coordinates, charge=1)"
   ]
  },
  {
   "cell_type": "code",
   "execution_count": 37,
   "id": "3a739abb",
   "metadata": {},
   "outputs": [
    {
     "name": "stdout",
     "output_type": "stream",
     "text": [
      "6\n"
     ]
    }
   ],
   "source": [
    "print(qubits)"
   ]
  },
  {
   "cell_type": "code",
   "execution_count": 38,
   "id": "77f748ef",
   "metadata": {},
   "outputs": [],
   "source": [
    "hf = qchem.hf_state(electrons = 2, orbitals = 6) # state Jordan Vegner representation"
   ]
  },
  {
   "cell_type": "code",
   "execution_count": 39,
   "id": "b1519f3e",
   "metadata": {},
   "outputs": [
    {
     "name": "stdout",
     "output_type": "stream",
     "text": [
      "[1 1 0 0 0 0]\n"
     ]
    }
   ],
   "source": [
    "print(hf)"
   ]
  },
  {
   "cell_type": "code",
   "execution_count": 40,
   "id": "ddaa0247",
   "metadata": {},
   "outputs": [],
   "source": [
    "num_wires = qubits\n",
    "dev = qml.device('default.qubit', wires=num_wires)"
   ]
  },
  {
   "cell_type": "code",
   "execution_count": 41,
   "id": "fd95dae5",
   "metadata": {},
   "outputs": [],
   "source": [
    "@qml.qnode(dev)\n",
    "def exp_energy(state):\n",
    "    qml.BasisState(np.array(state), wires=range(num_wires))\n",
    "    return qml.expval(hamiltonian)"
   ]
  },
  {
   "cell_type": "code",
   "execution_count": 42,
   "id": "3984dae5",
   "metadata": {},
   "outputs": [
    {
     "data": {
      "text/plain": [
       "tensor(-1.24655016, requires_grad=True)"
      ]
     },
     "execution_count": 42,
     "metadata": {},
     "output_type": "execute_result"
    }
   ],
   "source": [
    "exp_energy(hf)"
   ]
  },
  {
   "cell_type": "markdown",
   "id": "5d89a32b",
   "metadata": {},
   "source": [
    "### Prepare trial ground state"
   ]
  },
  {
   "cell_type": "code",
   "execution_count": 46,
   "id": "42be40a5",
   "metadata": {},
   "outputs": [],
   "source": [
    "def anzats(params):\n",
    "    qml.BasisState(hf, wires=range(num_wires))\n",
    "    qml.DoubleExcitation(params[0], wires=[0,1,2,3])\n",
    "    qml.DoubleExcitation(params[1], wires=[0,1,4,5])"
   ]
  },
  {
   "cell_type": "markdown",
   "id": "8cd5daa0",
   "metadata": {},
   "source": [
    "### Minimising the expectation value of the Hamiltonial"
   ]
  },
  {
   "cell_type": "code",
   "execution_count": 47,
   "id": "b7088461",
   "metadata": {},
   "outputs": [],
   "source": [
    "@qml.qnode(dev)\n",
    "def cost_function(params):\n",
    "    anzats(params)\n",
    "    return qml.expval(hamiltonian)"
   ]
  },
  {
   "cell_type": "code",
   "execution_count": 48,
   "id": "5aadc748",
   "metadata": {},
   "outputs": [
    {
     "data": {
      "text/plain": [
       "tensor(-1.26796721, requires_grad=True)"
      ]
     },
     "execution_count": 48,
     "metadata": {},
     "output_type": "execute_result"
    }
   ],
   "source": [
    "cost_function([0.1, 0.1])"
   ]
  },
  {
   "cell_type": "code",
   "execution_count": 52,
   "id": "d5aa5f4e",
   "metadata": {},
   "outputs": [
    {
     "name": "stdout",
     "output_type": "stream",
     "text": [
      "Step = 0, Energy = -1.26070025 Ha\n",
      "Step = 2, Energy = -1.27115671 Ha\n",
      "Step = 4, Energy = -1.27365804 Ha\n",
      "Step = 6, Energy = -1.27425241 Ha\n",
      "Step = 8, Energy = -1.27439362 Ha\n",
      "Step = 10, Energy = -1.27442718 Ha\n",
      "Step = 12, Energy = -1.27443517 Ha\n",
      "Step = 14, Energy = -1.27443707 Ha\n",
      "Step = 16, Energy = -1.27443752 Ha\n",
      "Step = 18, Energy = -1.27443763 Ha\n"
     ]
    }
   ],
   "source": [
    "opt = qml.GradientDescentOptimizer(stepsize=0.4)\n",
    "theta = np.array([0.0, 0.0], requires_grad=True)\n",
    "\n",
    "energy = [cost_function(theta)]\n",
    "angle = [theta]\n",
    "max_iterations = 20\n",
    "\n",
    "for n in range(max_iterations):\n",
    "    theta, prev_energy = opt.step_and_cost(cost_function, theta)\n",
    "    \n",
    "    energy.append(cost_function(theta))\n",
    "    angle.append(theta)\n",
    "    \n",
    "    if n%2 == 0:\n",
    "        print(f'Step = {n}, Energy = {energy[-1]:.8f} Ha')"
   ]
  },
  {
   "cell_type": "code",
   "execution_count": 53,
   "id": "e5fb676a",
   "metadata": {},
   "outputs": [
    {
     "name": "stdout",
     "output_type": "stream",
     "text": [
      "\n",
      "Final ground energy = -1.27443764 Ha\n",
      "\n",
      "Final angle parameters = 0.19203468 0.19290335\n"
     ]
    }
   ],
   "source": [
    "print('\\n' f'Final ground energy = {energy[-1]:.8f} Ha')\n",
    "print('\\n' f'Final angle parameters = {theta[0]:.8f} {theta[1]:.8f}')"
   ]
  },
  {
   "cell_type": "code",
   "execution_count": 54,
   "id": "789f13bc",
   "metadata": {},
   "outputs": [],
   "source": [
    "@qml.qnode(dev)\n",
    "def ground_state(params):\n",
    "    anzats(params)\n",
    "    return qml.state()"
   ]
  },
  {
   "cell_type": "code",
   "execution_count": 55,
   "id": "23723bc1",
   "metadata": {},
   "outputs": [
    {
     "data": {
      "text/plain": [
       "tensor([ 0.        +0.j,  0.        +0.j,  0.        +0.j,\n",
       "        -0.09585862+0.j,  0.        +0.j,  0.        +0.j,\n",
       "         0.        +0.j,  0.        +0.j,  0.        +0.j,\n",
       "         0.        +0.j,  0.        +0.j,  0.        +0.j,\n",
       "        -0.09586987+0.j,  0.        +0.j,  0.        +0.j,\n",
       "         0.        +0.j,  0.        +0.j,  0.        +0.j,\n",
       "         0.        +0.j,  0.        +0.j,  0.        +0.j,\n",
       "         0.        +0.j,  0.        +0.j,  0.        +0.j,\n",
       "         0.        +0.j,  0.        +0.j,  0.        +0.j,\n",
       "         0.        +0.j,  0.        +0.j,  0.        +0.j,\n",
       "         0.        +0.j,  0.        +0.j,  0.        +0.j,\n",
       "         0.        +0.j,  0.        +0.j,  0.        +0.j,\n",
       "         0.        +0.j,  0.        +0.j,  0.        +0.j,\n",
       "         0.        +0.j,  0.        +0.j,  0.        +0.j,\n",
       "         0.        +0.j,  0.        +0.j,  0.        +0.j,\n",
       "         0.        +0.j,  0.        +0.j,  0.        +0.j,\n",
       "         0.99076743+0.j,  0.        +0.j,  0.        +0.j,\n",
       "         0.        +0.j,  0.        +0.j,  0.        +0.j,\n",
       "         0.        +0.j,  0.        +0.j,  0.        +0.j,\n",
       "         0.        +0.j,  0.        +0.j,  0.        +0.j,\n",
       "         0.        +0.j,  0.        +0.j,  0.        +0.j,\n",
       "         0.        +0.j], requires_grad=True)"
      ]
     },
     "execution_count": 55,
     "metadata": {},
     "output_type": "execute_result"
    }
   ],
   "source": [
    "ground_state(theta)"
   ]
  },
  {
   "cell_type": "code",
   "execution_count": null,
   "id": "1ff6008e",
   "metadata": {},
   "outputs": [],
   "source": []
  }
 ],
 "metadata": {
  "kernelspec": {
   "display_name": "Python 3 (ipykernel)",
   "language": "python",
   "name": "python3"
  },
  "language_info": {
   "codemirror_mode": {
    "name": "ipython",
    "version": 3
   },
   "file_extension": ".py",
   "mimetype": "text/x-python",
   "name": "python",
   "nbconvert_exporter": "python",
   "pygments_lexer": "ipython3",
   "version": "3.10.9"
  }
 },
 "nbformat": 4,
 "nbformat_minor": 5
}
