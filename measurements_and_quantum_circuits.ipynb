{
 "cells": [
  {
   "cell_type": "code",
   "execution_count": 1,
   "id": "b652a3eb",
   "metadata": {},
   "outputs": [],
   "source": [
    "import pennylane as qml\n",
    "from pennylane import numpy as np"
   ]
  },
  {
   "cell_type": "code",
   "execution_count": 2,
   "id": "5c3e5a72",
   "metadata": {},
   "outputs": [],
   "source": [
    "dev = qml.device('default.qubit', wires=2)"
   ]
  },
  {
   "cell_type": "markdown",
   "id": "4d55cb50",
   "metadata": {},
   "source": [
    "### Vector in computational basis"
   ]
  },
  {
   "cell_type": "code",
   "execution_count": 3,
   "id": "419ba707",
   "metadata": {},
   "outputs": [],
   "source": [
    "@qml.qnode(dev)\n",
    "def circuit():\n",
    "    qml.Hadamard(0)\n",
    "    qml.CNOT([0,1])\n",
    "    return qml.state()"
   ]
  },
  {
   "cell_type": "code",
   "execution_count": 4,
   "id": "3f3b4310",
   "metadata": {},
   "outputs": [
    {
     "name": "stdout",
     "output_type": "stream",
     "text": [
      "[0.70710678+0.j 0.        +0.j 0.        +0.j 0.70710678+0.j]\n"
     ]
    }
   ],
   "source": [
    "print(circuit())"
   ]
  },
  {
   "cell_type": "markdown",
   "id": "210b2533",
   "metadata": {},
   "source": [
    "### Density matrix in computational basis"
   ]
  },
  {
   "cell_type": "code",
   "execution_count": 9,
   "id": "80a5142a",
   "metadata": {},
   "outputs": [],
   "source": [
    "@qml.qnode(dev)\n",
    "def circuit():\n",
    "    qml.Hadamard(0)\n",
    "    qml.CNOT([0,1])\n",
    "#     return qml.density_matrix(wires=range(2))\n",
    "    return qml.density_matrix(wires=0)"
   ]
  },
  {
   "cell_type": "code",
   "execution_count": 10,
   "id": "ffb927cd",
   "metadata": {},
   "outputs": [
    {
     "name": "stdout",
     "output_type": "stream",
     "text": [
      "[[0.5+0.j 0. +0.j]\n",
      " [0. +0.j 0.5+0.j]]\n"
     ]
    }
   ],
   "source": [
    "print(circuit())"
   ]
  },
  {
   "cell_type": "markdown",
   "id": "92c8bccc",
   "metadata": {},
   "source": [
    "### Marginal/full probability distribution in computational basis"
   ]
  },
  {
   "cell_type": "code",
   "execution_count": 13,
   "id": "2d96b29c",
   "metadata": {},
   "outputs": [],
   "source": [
    "@qml.qnode(dev)\n",
    "def circuit():\n",
    "    qml.Hadamard(0)\n",
    "    qml.CNOT([0,1])\n",
    "#     return qml.probs(wires=range(2))\n",
    "    return qml.probs(wires=0)"
   ]
  },
  {
   "cell_type": "code",
   "execution_count": 14,
   "id": "d943a269",
   "metadata": {},
   "outputs": [
    {
     "name": "stdout",
     "output_type": "stream",
     "text": [
      "[0.5 0.5]\n"
     ]
    }
   ],
   "source": [
    "print(circuit())"
   ]
  },
  {
   "cell_type": "markdown",
   "id": "05d3fb45",
   "metadata": {},
   "source": [
    "## Real Quantum computer"
   ]
  },
  {
   "cell_type": "code",
   "execution_count": 15,
   "id": "de7c0cd9",
   "metadata": {},
   "outputs": [],
   "source": [
    "dev = qml.device('default.qubit', wires=2, shots=5)"
   ]
  },
  {
   "cell_type": "code",
   "execution_count": 18,
   "id": "f2492830",
   "metadata": {},
   "outputs": [],
   "source": [
    "@qml.qnode(dev)\n",
    "def circuit():\n",
    "    qml.Hadamard(0)\n",
    "    qml.CNOT([0,1])\n",
    "    return qml.state()"
   ]
  },
  {
   "cell_type": "code",
   "execution_count": 19,
   "id": "3661c29f",
   "metadata": {},
   "outputs": [
    {
     "name": "stdout",
     "output_type": "stream",
     "text": [
      "[0.70710678+0.j 0.        +0.j 0.        +0.j 0.70710678+0.j]\n"
     ]
    },
    {
     "name": "stderr",
     "output_type": "stream",
     "text": [
      "/opt/homebrew/anaconda3/lib/python3.10/site-packages/pennylane/_qubit_device.py:981: UserWarning: Requested state or density matrix with finite shots; the returned state information is analytic and is unaffected by sampling. To silence this warning, set shots=None on the device.\n",
      "  warnings.warn(\n"
     ]
    }
   ],
   "source": [
    "print(circuit())"
   ]
  },
  {
   "cell_type": "code",
   "execution_count": 20,
   "id": "b1212066",
   "metadata": {},
   "outputs": [],
   "source": [
    "@qml.qnode(dev)\n",
    "def circuit():\n",
    "    qml.Hadamard(0)\n",
    "    qml.CNOT([0,1])\n",
    "    return qml.sample()"
   ]
  },
  {
   "cell_type": "code",
   "execution_count": 21,
   "id": "db99ab61",
   "metadata": {},
   "outputs": [
    {
     "name": "stdout",
     "output_type": "stream",
     "text": [
      "[[1 1]\n",
      " [1 1]\n",
      " [0 0]\n",
      " [0 0]\n",
      " [0 0]]\n"
     ]
    }
   ],
   "source": [
    "print(circuit())"
   ]
  },
  {
   "cell_type": "code",
   "execution_count": 24,
   "id": "0ff18d44",
   "metadata": {},
   "outputs": [],
   "source": [
    "dev = qml.device('default.qubit', wires=2, shots=100)"
   ]
  },
  {
   "cell_type": "code",
   "execution_count": 25,
   "id": "50e5a845",
   "metadata": {},
   "outputs": [],
   "source": [
    "@qml.qnode(dev)\n",
    "def circuit():\n",
    "    qml.Hadamard(0)\n",
    "    qml.CNOT([0,1])\n",
    "    return qml.counts()"
   ]
  },
  {
   "cell_type": "code",
   "execution_count": 26,
   "id": "e24cb9ed",
   "metadata": {},
   "outputs": [
    {
     "name": "stdout",
     "output_type": "stream",
     "text": [
      "{'00': 59, '11': 41}\n"
     ]
    }
   ],
   "source": [
    "print(circuit())"
   ]
  },
  {
   "cell_type": "code",
   "execution_count": 48,
   "id": "ca42b415",
   "metadata": {},
   "outputs": [],
   "source": [
    "# dev = qml.device('default.qubit', wires=2)\n",
    "dev = qml.device('default.qubit', wires=2, shots=5)"
   ]
  },
  {
   "cell_type": "code",
   "execution_count": 49,
   "id": "9e168885",
   "metadata": {},
   "outputs": [],
   "source": [
    "@qml.qnode(dev)\n",
    "def circuit():\n",
    "    qml.Hadamard(0)\n",
    "    qml.CNOT([0,1])\n",
    "    return qml.expval(qml.PauliZ(0))"
   ]
  },
  {
   "cell_type": "code",
   "execution_count": 50,
   "id": "4bb09d2c",
   "metadata": {},
   "outputs": [
    {
     "name": "stdout",
     "output_type": "stream",
     "text": [
      "-0.2\n"
     ]
    }
   ],
   "source": [
    "print(circuit())"
   ]
  },
  {
   "cell_type": "code",
   "execution_count": 51,
   "id": "83f6499f",
   "metadata": {},
   "outputs": [],
   "source": [
    "@qml.qnode(dev)\n",
    "def circuit():\n",
    "    qml.Hadamard(0)\n",
    "    qml.CNOT([0,1])\n",
    "    return qml.sample(qml.PauliZ(0))"
   ]
  },
  {
   "cell_type": "code",
   "execution_count": 52,
   "id": "42fb0095",
   "metadata": {},
   "outputs": [
    {
     "name": "stdout",
     "output_type": "stream",
     "text": [
      "[-1  1  1 -1 -1]\n"
     ]
    }
   ],
   "source": [
    "results = circuit()\n",
    "print(results)"
   ]
  },
  {
   "cell_type": "code",
   "execution_count": 53,
   "id": "bad2ce36",
   "metadata": {},
   "outputs": [
    {
     "data": {
      "text/plain": [
       "-0.2"
      ]
     },
     "execution_count": 53,
     "metadata": {},
     "output_type": "execute_result"
    }
   ],
   "source": [
    "np.mean(results)"
   ]
  },
  {
   "cell_type": "code",
   "execution_count": 54,
   "id": "77db1dd5",
   "metadata": {},
   "outputs": [],
   "source": [
    "dev = qml.device('default.qubit', wires=2, shots = [5,10, 100, 500, 1000])"
   ]
  },
  {
   "cell_type": "code",
   "execution_count": 55,
   "id": "a25f2970",
   "metadata": {},
   "outputs": [],
   "source": [
    "@qml.qnode(dev)\n",
    "def circuit():\n",
    "    qml.Hadamard(0)\n",
    "    qml.CNOT([0,1])\n",
    "    return qml.expval(qml.PauliZ(0))"
   ]
  },
  {
   "cell_type": "code",
   "execution_count": 65,
   "id": "088bdd80",
   "metadata": {},
   "outputs": [
    {
     "name": "stdout",
     "output_type": "stream",
     "text": [
      "(array(-0.2), array(0.), array(0.16), array(0.), array(-0.024))\n"
     ]
    }
   ],
   "source": [
    "results = circuit()\n",
    "print(results)"
   ]
  },
  {
   "cell_type": "code",
   "execution_count": null,
   "id": "03bd0dfb",
   "metadata": {},
   "outputs": [],
   "source": []
  },
  {
   "cell_type": "code",
   "execution_count": null,
   "id": "bb44a32f",
   "metadata": {},
   "outputs": [],
   "source": []
  }
 ],
 "metadata": {
  "kernelspec": {
   "display_name": "Python 3 (ipykernel)",
   "language": "python",
   "name": "python3"
  },
  "language_info": {
   "codemirror_mode": {
    "name": "ipython",
    "version": 3
   },
   "file_extension": ".py",
   "mimetype": "text/x-python",
   "name": "python",
   "nbconvert_exporter": "python",
   "pygments_lexer": "ipython3",
   "version": "3.10.9"
  }
 },
 "nbformat": 4,
 "nbformat_minor": 5
}
