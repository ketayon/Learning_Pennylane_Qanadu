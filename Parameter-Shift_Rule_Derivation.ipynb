{
 "cells": [
  {
   "cell_type": "code",
   "execution_count": 1,
   "id": "0eb9ce7c",
   "metadata": {},
   "outputs": [],
   "source": [
    "import pennylane as qml\n",
    "from pennylane import numpy as np"
   ]
  },
  {
   "cell_type": "code",
   "execution_count": 2,
   "id": "b5471322",
   "metadata": {},
   "outputs": [],
   "source": [
    "dev = qml.device(\"default.qubit\", wires = 1)"
   ]
  },
  {
   "cell_type": "code",
   "execution_count": 9,
   "id": "27f459de",
   "metadata": {},
   "outputs": [],
   "source": [
    "@qml.qnode(dev)\n",
    "def circuit(x):\n",
    "    qml.RX(x, wires = 0)\n",
    "    return qml.expval(qml.PauliZ(0))"
   ]
  },
  {
   "cell_type": "code",
   "execution_count": 10,
   "id": "78a2f5c3",
   "metadata": {},
   "outputs": [],
   "source": [
    "x = 0.4\n",
    "nums_frequency = {'x': {(): 1}}"
   ]
  },
  {
   "cell_type": "code",
   "execution_count": 11,
   "id": "d899c022",
   "metadata": {},
   "outputs": [],
   "source": [
    "rec = qml.fourier.reconstruct(circuit, nums_frequency=nums_frequency)(x)"
   ]
  },
  {
   "cell_type": "code",
   "execution_count": 13,
   "id": "2e0c0d25",
   "metadata": {},
   "outputs": [
    {
     "name": "stdout",
     "output_type": "stream",
     "text": [
      "3\n"
     ]
    }
   ],
   "source": [
    "reconstruction_cost = dev.num_executions\n",
    "print(reconstruction_cost)"
   ]
  },
  {
   "cell_type": "code",
   "execution_count": 14,
   "id": "b974e11f",
   "metadata": {},
   "outputs": [
    {
     "name": "stdout",
     "output_type": "stream",
     "text": [
      "Expectation value with parameter: 0.0: 1.0\n",
      "Additional quantum evaluation required: 2.0\n",
      "Expectation value with parameter: 0.7853981633974483: 0.7071067811865472\n",
      "Additional quantum evaluation required: 2.292893218813453\n",
      "Expectation value with parameter: 1.5707963267948966: -1.6248501596262965e-16\n",
      "Additional quantum evaluation required: 3.0\n",
      "Expectation value with parameter: 2.356194490192345: -0.7071067811865474\n",
      "Additional quantum evaluation required: 3.7071067811865475\n",
      "Expectation value with parameter: 3.141592653589793: -0.9999999999999997\n",
      "Additional quantum evaluation required: 3.9999999999999996\n"
     ]
    }
   ],
   "source": [
    "recon_x = rec['x'][()]\n",
    "\n",
    "for param in np.linspace(0, np.pi, 5):\n",
    "    print(f'Expectation value with parameter: {param}: {recon_x(param)}')\n",
    "    print(f'Additional quantum evaluation required: {dev.num_executions - recon_x(param)}')"
   ]
  },
  {
   "cell_type": "code",
   "execution_count": null,
   "id": "d7a2bdc9",
   "metadata": {},
   "outputs": [],
   "source": []
  },
  {
   "cell_type": "code",
   "execution_count": 16,
   "id": "8e5d8b98",
   "metadata": {},
   "outputs": [
    {
     "name": "stdout",
     "output_type": "stream",
     "text": [
      "PauliZ(wires=[0]) -0.5\n"
     ]
    }
   ],
   "source": [
    "U = qml.RZ(np.pi/12, 0)\n",
    "G, coeff = qml.generator(U)\n",
    "print(G, coeff)"
   ]
  },
  {
   "cell_type": "code",
   "execution_count": 17,
   "id": "1f5712fe",
   "metadata": {},
   "outputs": [
    {
     "data": {
      "text/plain": [
       "array([[-0.5, -0. ],\n",
       "       [-0. ,  0.5]])"
      ]
     },
     "execution_count": 17,
     "metadata": {},
     "output_type": "execute_result"
    }
   ],
   "source": [
    "mat = coeff * G.matrix()\n",
    "mat"
   ]
  },
  {
   "cell_type": "code",
   "execution_count": 19,
   "id": "c6063e77",
   "metadata": {},
   "outputs": [
    {
     "data": {
      "text/plain": [
       "tensor(1., requires_grad=True)"
      ]
     },
     "execution_count": 19,
     "metadata": {},
     "output_type": "execute_result"
    }
   ],
   "source": [
    "eigvals = np.linalg.eigvals(mat) # omega 1 and 2\n",
    "Omega = eigvals[1] - eigvals[0] # omega 2 > omega 1\n",
    "Omega"
   ]
  },
  {
   "cell_type": "code",
   "execution_count": 20,
   "id": "c62cdb8f",
   "metadata": {},
   "outputs": [],
   "source": [
    "dev = qml.device(\"default.qubit\", wires = 1)"
   ]
  },
  {
   "cell_type": "code",
   "execution_count": 21,
   "id": "5b3400c6",
   "metadata": {},
   "outputs": [],
   "source": [
    "@qml.qnode(dev, diff_method='parameter-shift')\n",
    "def circuit(x):\n",
    "    qml.RZ(x, 0)\n",
    "    return qml.expval(qml.PauliY(0))"
   ]
  },
  {
   "cell_type": "code",
   "execution_count": 22,
   "id": "2c4ce590",
   "metadata": {},
   "outputs": [],
   "source": [
    "x = np.array(np.pi/12, requires_grad=True)\n",
    "s = np.pi/2 #sin(pi/2)=1"
   ]
  },
  {
   "cell_type": "code",
   "execution_count": 23,
   "id": "8b1df21a",
   "metadata": {},
   "outputs": [
    {
     "data": {
      "text/plain": [
       "True"
      ]
     },
     "execution_count": 23,
     "metadata": {},
     "output_type": "execute_result"
    }
   ],
   "source": [
    "qml.grad(circuit)(x) == (circuit(x + s) - circuit(x - s))/2"
   ]
  },
  {
   "cell_type": "code",
   "execution_count": null,
   "id": "913998be",
   "metadata": {},
   "outputs": [],
   "source": []
  }
 ],
 "metadata": {
  "kernelspec": {
   "display_name": "Python 3 (ipykernel)",
   "language": "python",
   "name": "python3"
  },
  "language_info": {
   "codemirror_mode": {
    "name": "ipython",
    "version": 3
   },
   "file_extension": ".py",
   "mimetype": "text/x-python",
   "name": "python",
   "nbconvert_exporter": "python",
   "pygments_lexer": "ipython3",
   "version": "3.10.9"
  }
 },
 "nbformat": 4,
 "nbformat_minor": 5
}
