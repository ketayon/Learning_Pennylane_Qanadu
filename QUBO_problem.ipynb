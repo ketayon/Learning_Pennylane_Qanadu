{
 "cells": [
  {
   "cell_type": "code",
   "execution_count": 1,
   "id": "fec2d2f0",
   "metadata": {},
   "outputs": [],
   "source": [
    "import pennylane as qml\n",
    "from pennylane import numpy as np"
   ]
  },
  {
   "cell_type": "code",
   "execution_count": 5,
   "id": "25d4fc8b",
   "metadata": {},
   "outputs": [],
   "source": [
    "H = 6 * qml.Identity(1) - \\\n",
    "    0.5 * qml.PauliZ(1) @ qml.PauliZ(4) - \\\n",
    "    0.5 * qml.PauliZ(2) @ qml.PauliZ(3) - \\\n",
    "    0.5 * qml.PauliZ(4) @ qml.PauliZ(5) - \\\n",
    "    0.5 * qml.PauliZ(3) @ qml.PauliZ(4)"
   ]
  },
  {
   "cell_type": "code",
   "execution_count": 6,
   "id": "9382742c",
   "metadata": {},
   "outputs": [
    {
     "name": "stdout",
     "output_type": "stream",
     "text": [
      "  (6.0) [I1]\n",
      "+ (-0.5) [Z1 Z4]\n",
      "+ (-0.5) [Z2 Z3]\n",
      "+ (-0.5) [Z4 Z5]\n",
      "+ (-0.5) [Z3 Z4]\n"
     ]
    }
   ],
   "source": [
    "print(H)"
   ]
  },
  {
   "cell_type": "code",
   "execution_count": 7,
   "id": "224b7cb8",
   "metadata": {},
   "outputs": [],
   "source": [
    "H = -6 * qml.Identity(1) + \\\n",
    "    0.5 * qml.PauliZ(1) @ qml.PauliZ(4) + \\\n",
    "    0.5 * qml.PauliZ(2) @ qml.PauliZ(3) + \\\n",
    "    0.5 * qml.PauliZ(4) @ qml.PauliZ(5) + \\\n",
    "    0.5 * qml.PauliZ(3) @ qml.PauliZ(4)"
   ]
  },
  {
   "cell_type": "code",
   "execution_count": 8,
   "id": "bd263511",
   "metadata": {},
   "outputs": [
    {
     "name": "stdout",
     "output_type": "stream",
     "text": [
      "  (-6.0) [I1]\n",
      "+ (0.5) [Z1 Z4]\n",
      "+ (0.5) [Z2 Z3]\n",
      "+ (0.5) [Z4 Z5]\n",
      "+ (0.5) [Z3 Z4]\n"
     ]
    }
   ],
   "source": [
    "print(H)"
   ]
  },
  {
   "cell_type": "code",
   "execution_count": 9,
   "id": "5513c74e",
   "metadata": {},
   "outputs": [],
   "source": [
    "dev = qml.device('default.qubit', wires=H.wires)"
   ]
  },
  {
   "cell_type": "code",
   "execution_count": 10,
   "id": "c9133513",
   "metadata": {},
   "outputs": [],
   "source": [
    "@qml.qnode(dev)\n",
    "def circuit(params):\n",
    "    \n",
    "    for param, wire in zip(params, H.wires):\n",
    "        qml.RY(param, wires=wire)\n",
    "        \n",
    "    return qml.expval(H)"
   ]
  },
  {
   "cell_type": "code",
   "execution_count": 11,
   "id": "f3e641d7",
   "metadata": {},
   "outputs": [
    {
     "data": {
      "text/plain": [
       "tensor(-4., requires_grad=True)"
      ]
     },
     "execution_count": 11,
     "metadata": {},
     "output_type": "execute_result"
    }
   ],
   "source": [
    "circuit([0, 0, 0, 0, 0, 0])"
   ]
  },
  {
   "cell_type": "code",
   "execution_count": 16,
   "id": "dd092b71",
   "metadata": {},
   "outputs": [
    {
     "data": {
      "text/plain": [
       "tensor(-8., requires_grad=True)"
      ]
     },
     "execution_count": 16,
     "metadata": {},
     "output_type": "execute_result"
    }
   ],
   "source": [
    "params = np.random.rand(len(H.wires))\n",
    "opt = qml.AdagradOptimizer(stepsize=0.5)\n",
    "epochs = 200\n",
    "\n",
    "for epoch in range(epochs):\n",
    "    params = opt.step(circuit, params)\n",
    "    \n",
    "circuit(params)"
   ]
  },
  {
   "cell_type": "code",
   "execution_count": 17,
   "id": "1ad611d3",
   "metadata": {},
   "outputs": [
    {
     "data": {
      "text/plain": [
       "array([1, 0, 1, 0, 1])"
      ]
     },
     "execution_count": 17,
     "metadata": {},
     "output_type": "execute_result"
    }
   ],
   "source": [
    "dev = qml.device('default.qubit', wires=H.wires, shots = 1)\n",
    "\n",
    "@qml.qnode(dev)\n",
    "def circuit(params):\n",
    "    \n",
    "    for param, wire in zip(params, H.wires):\n",
    "        qml.RY(param, wires=wire)\n",
    "        \n",
    "    return qml.sample()\n",
    "\n",
    "circuit(params)"
   ]
  },
  {
   "cell_type": "code",
   "execution_count": null,
   "id": "bce7276e",
   "metadata": {},
   "outputs": [],
   "source": []
  }
 ],
 "metadata": {
  "kernelspec": {
   "display_name": "Python 3 (ipykernel)",
   "language": "python",
   "name": "python3"
  },
  "language_info": {
   "codemirror_mode": {
    "name": "ipython",
    "version": 3
   },
   "file_extension": ".py",
   "mimetype": "text/x-python",
   "name": "python",
   "nbconvert_exporter": "python",
   "pygments_lexer": "ipython3",
   "version": "3.10.9"
  }
 },
 "nbformat": 4,
 "nbformat_minor": 5
}
