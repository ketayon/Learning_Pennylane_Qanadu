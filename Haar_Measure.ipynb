{
 "cells": [
  {
   "cell_type": "code",
   "execution_count": 1,
   "id": "fe8c449c",
   "metadata": {},
   "outputs": [],
   "source": [
    "import pennylane as qml\n",
    "from pennylane import numpy as np\n",
    "from numpy.linalg import qr"
   ]
  },
  {
   "cell_type": "code",
   "execution_count": 2,
   "id": "fbd53316",
   "metadata": {},
   "outputs": [],
   "source": [
    "def qr_haar(N):\n",
    "    '''Generate a Haar-random matrix using the QR decomposition'''\n",
    "    \n",
    "    A, B = np.random.normal(size=(N, N)), np.random.normal(size=(N, N))\n",
    "    Z = A + 1j * B\n",
    "    Q, R = qr(Z)\n",
    "    Lambda = np.diag([R[i, i] / np.abs(R[i, i]) for i in range(N)])\n",
    "    return np.dot(Q, Lambda)"
   ]
  },
  {
   "cell_type": "code",
   "execution_count": 3,
   "id": "66467b4a",
   "metadata": {},
   "outputs": [],
   "source": [
    "dev = qml.device(\"default.qubit\", wires = 1)"
   ]
  },
  {
   "cell_type": "code",
   "execution_count": 5,
   "id": "d0fc9ce9",
   "metadata": {},
   "outputs": [
    {
     "name": "stdout",
     "output_type": "stream",
     "text": [
      "[Rot(tensor(-2.40800534, requires_grad=True), tensor(2.66345697, requires_grad=True), tensor(1.32433778, requires_grad=True), wires=[0])]\n"
     ]
    }
   ],
   "source": [
    "mat = qr_haar(2)\n",
    "op = qml.transforms.zyz_decomposition(mat, 0)\n",
    "print(op)"
   ]
  },
  {
   "cell_type": "code",
   "execution_count": 6,
   "id": "5c0df97a",
   "metadata": {},
   "outputs": [],
   "source": [
    "params = op[0].parameters\n",
    "params = np.array([params[0], params[1], params[2]], requires_grad=True)"
   ]
  },
  {
   "cell_type": "code",
   "execution_count": 9,
   "id": "0d4e4e68",
   "metadata": {},
   "outputs": [],
   "source": [
    "@qml.qnode(dev)\n",
    "def haar_circuit(params):\n",
    "    qml.Rot(*params, wires=0)\n",
    "    return qml.expval(qml.PauliX(0))"
   ]
  },
  {
   "cell_type": "code",
   "execution_count": 10,
   "id": "79429f53",
   "metadata": {},
   "outputs": [
    {
     "name": "stdout",
     "output_type": "stream",
     "text": [
      "[-2.40800534  2.68511804  1.36895987] 0.11225712018159106\n",
      "[-2.40800534  2.70311237  1.41214372] 0.08836394531549696\n",
      "[-2.40800534  2.71741656  1.45406691] 0.06707596865414722\n"
     ]
    }
   ],
   "source": [
    "opt = qml.GradientDescentOptimizer(0.1)\n",
    "\n",
    "for _ in range(3):\n",
    "    params, loss = opt.step_and_cost(haar_circuit, params)\n",
    "    print(params, loss)"
   ]
  },
  {
   "cell_type": "code",
   "execution_count": null,
   "id": "6e2129ba",
   "metadata": {},
   "outputs": [],
   "source": []
  }
 ],
 "metadata": {
  "kernelspec": {
   "display_name": "Python 3 (ipykernel)",
   "language": "python",
   "name": "python3"
  },
  "language_info": {
   "codemirror_mode": {
    "name": "ipython",
    "version": 3
   },
   "file_extension": ".py",
   "mimetype": "text/x-python",
   "name": "python",
   "nbconvert_exporter": "python",
   "pygments_lexer": "ipython3",
   "version": "3.10.9"
  }
 },
 "nbformat": 4,
 "nbformat_minor": 5
}
